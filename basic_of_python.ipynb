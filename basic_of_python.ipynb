{
 "cells": [
  {
   "cell_type": "code",
   "execution_count": 1,
   "id": "382657d5-b263-4fd8-8d72-7f98648e68ba",
   "metadata": {},
   "outputs": [
    {
     "data": {
      "text/plain": [
       "__main__.dpk"
      ]
     },
     "execution_count": 1,
     "metadata": {},
     "output_type": "execute_result"
    }
   ],
   "source": [
    "class dpk:\n",
    "    pass\n",
    "\n",
    "a=dpk()\n",
    "type(dpk())"
   ]
  },
  {
   "cell_type": "code",
   "execution_count": 3,
   "id": "fa38f139-88dc-4c8f-b8de-d18329e6cbb6",
   "metadata": {},
   "outputs": [
    {
     "name": "stdout",
     "output_type": "stream",
     "text": [
      "Python 3.12.4\n"
     ]
    }
   ],
   "source": [
    "!python --version\n",
    "\n"
   ]
  },
  {
   "cell_type": "code",
   "execution_count": 1,
   "id": "7a85e199-107f-42a4-a82e-c96bb7f6076a",
   "metadata": {},
   "outputs": [
    {
     "name": "stdout",
     "output_type": "stream",
     "text": [
      "[0, 1, 1, 2, 3, 5, 8]\n"
     ]
    }
   ],
   "source": [
    "n=5\n",
    "f=[0,1]\n",
    "for i in range(n):\n",
    "    f.append(f[-1]+f[-2])\n",
    "\n",
    "print(f)\n"
   ]
  },
  {
   "cell_type": "code",
   "execution_count": 2,
   "id": "b6600214",
   "metadata": {},
   "outputs": [
    {
     "name": "stdout",
     "output_type": "stream",
     "text": [
      "4 3\n"
     ]
    }
   ],
   "source": [
    "a=3\n",
    "b=4\n",
    "a,b= b,a\n",
    "\n",
    "print(a,b)"
   ]
  },
  {
   "cell_type": "code",
   "execution_count": 3,
   "id": "3e7adf55-17a4-49f9-bd56-35e1932878ec",
   "metadata": {},
   "outputs": [
    {
     "name": "stdout",
     "output_type": "stream",
     "text": [
      "[1, 2, 3, 4, 6, 6, 7, 7]\n"
     ]
    }
   ],
   "source": [
    "l=[3,6,7,2,1,4,6,7]\n",
    "l.sort()\n",
    "print(l)"
   ]
  },
  {
   "cell_type": "code",
   "execution_count": null,
   "id": "4db88be1-02f5-433a-a1fa-91840f016569",
   "metadata": {},
   "outputs": [],
   "source": [
    "#Program to count vowels, consonant, digits and special characters in string.\n",
    "s= input(\"enter the input:\")\n",
    "\n",
    "def check(s):\n",
    "    vol=\"aeiou\"\n",
    "    dig=\"0123456789\"\n",
    "    for char in s:\n",
    "        if char.\n",
    "    \n"
   ]
  },
  {
   "cell_type": "code",
   "execution_count": null,
   "id": "e2077e03-3670-45da-803a-8dd8bc1ded8f",
   "metadata": {},
   "outputs": [],
   "source": [
    "#largest element in the array\n"
   ]
  },
  {
   "cell_type": "code",
   "execution_count": 17,
   "id": "00c112ef-2a4d-4c7d-86d4-b995d3aac2fb",
   "metadata": {},
   "outputs": [
    {
     "name": "stdout",
     "output_type": "stream",
     "text": [
      "9\n"
     ]
    }
   ],
   "source": [
    "def largest(l):\n",
    "    res=l[0]\n",
    "    for i in l:\n",
    "        if i>res:\n",
    "            res=i\n",
    "    return res\n",
    "l=[6,7,9,3,4,5,2,1]\n",
    "print(largest(l))\n",
    "            "
   ]
  },
  {
   "cell_type": "code",
   "execution_count": null,
   "id": "d60eae5d-b2e5-44ca-bc5b-71069fa2bc58",
   "metadata": {},
   "outputs": [],
   "source": []
  },
  {
   "cell_type": "code",
   "execution_count": null,
   "id": "6e9e03a1-7e02-4445-9e66-dd8937560f72",
   "metadata": {},
   "outputs": [],
   "source": []
  },
  {
   "cell_type": "code",
   "execution_count": null,
   "id": "a3a766ff-b15c-4316-86e0-fd88ce266b3a",
   "metadata": {},
   "outputs": [],
   "source": []
  },
  {
   "cell_type": "code",
   "execution_count": null,
   "id": "2883d7c5-a167-4b06-b96b-1aef60c35307",
   "metadata": {},
   "outputs": [],
   "source": []
  },
  {
   "cell_type": "code",
   "execution_count": null,
   "id": "5a54dad6-77d0-4782-8b38-c502c898b868",
   "metadata": {},
   "outputs": [],
   "source": [
    "#second largest\n"
   ]
  },
  {
   "cell_type": "code",
   "execution_count": null,
   "id": "172750b8-a05c-4347-8801-c41f26a565e3",
   "metadata": {},
   "outputs": [],
   "source": [
    "def secondlargest(l):\n",
    "    "
   ]
  },
  {
   "cell_type": "code",
   "execution_count": null,
   "id": "d0e9e7f7-3dec-4cb1-a4ce-8648fdf030fd",
   "metadata": {},
   "outputs": [],
   "source": []
  },
  {
   "cell_type": "code",
   "execution_count": null,
   "id": "a421194e-ef23-478c-b84c-b8ba8c4c2431",
   "metadata": {},
   "outputs": [],
   "source": []
  },
  {
   "cell_type": "code",
   "execution_count": null,
   "id": "4134a942-1b54-4c86-bd6c-4f3cf288578e",
   "metadata": {},
   "outputs": [],
   "source": []
  },
  {
   "cell_type": "code",
   "execution_count": null,
   "id": "cefc522d-2f0c-41fe-9756-246bc2ef0411",
   "metadata": {},
   "outputs": [],
   "source": []
  },
  {
   "cell_type": "code",
   "execution_count": null,
   "id": "e2452d64-c48f-4147-8a7f-693cd546d8fd",
   "metadata": {},
   "outputs": [],
   "source": []
  },
  {
   "cell_type": "code",
   "execution_count": 11,
   "id": "b2115cfc-5738-4a25-927e-76603bff2ae4",
   "metadata": {},
   "outputs": [],
   "source": [
    "##linear search\n",
    "## time complextiy o(n)"
   ]
  },
  {
   "cell_type": "code",
   "execution_count": 12,
   "id": "f495b05c-4372-4d0c-b97b-6cd65a6192e6",
   "metadata": {},
   "outputs": [],
   "source": [
    "##binary search \n",
    "###  time complexity to O(Log n)\n",
    "#Space Complexity:O(1) for iterative \n",
    "#Space Complexity: o(log(n)) for recursive"
   ]
  },
  {
   "cell_type": "code",
   "execution_count": null,
   "id": "2221514f",
   "metadata": {},
   "outputs": [],
   "source": [
    "def bs(l,n):\n",
    "    start=0\n",
    "    end=len(l)\n",
    "    l.sort()\n",
    "    mid=(start+end)//2\n",
    "    \n",
    "    for i in range(0,len(l)):\n",
    "        \n",
    "        if n== l[mid]:\n",
    "            return mid\n",
    "        elif n>l[mid]:\n",
    "            start=mid+1\n",
    "            mid=(start+end)//2\n",
    "        elif n<l[mid]:\n",
    "            end==mid-1\n",
    "            mid=(start+end)//2\n",
    "            \n",
    "        \n",
    "        \n",
    "        "
   ]
  },
  {
   "cell_type": "code",
   "execution_count": 4,
   "id": "80c79c63-cef4-450f-b2ce-ea0e1b3d8e2f",
   "metadata": {},
   "outputs": [],
   "source": [
    "def bs(l, n):\n",
    "    start = 0\n",
    "    end = len(l) - 1  # Correct end initialization\n",
    "    l.sort()          # Ensure the list is sorted\n",
    "\n",
    "    while start <= end:\n",
    "        mid = (start + end) // 2\n",
    "        \n",
    "        if n == l[mid]:  # Element found\n",
    "            return mid\n",
    "        elif n > l[mid]:  # Search in the right half\n",
    "            start = mid + 1\n",
    "        else:            # Search in the left half\n",
    "            end = mid - 1\n",
    "\n",
    "    return -1  # Element not found\n"
   ]
  },
  {
   "cell_type": "code",
   "execution_count": 5,
   "id": "322bd268-3e3c-44a1-9195-efe2491bee5c",
   "metadata": {},
   "outputs": [
    {
     "name": "stdout",
     "output_type": "stream",
     "text": [
      "4\n",
      "-1\n"
     ]
    }
   ],
   "source": [
    "l = [3, 6, 8, 12, 14, 18]\n",
    "n = 14\n",
    "print(bs(l, n))  # Output: 4\n",
    "\n",
    "n = 7\n",
    "print(bs(l, n))  # Output: -1\n"
   ]
  },
  {
   "cell_type": "code",
   "execution_count": 7,
   "id": "4be05ee7-828d-4757-ae89-901f21e0da32",
   "metadata": {},
   "outputs": [],
   "source": [
    "#sorting \n",
    "###bubble sort \n",
    "    ## Time Complexity: O(n2)\n",
    "     ###Space Complexity: O(1)\n",
    "\n",
    "  "
   ]
  },
  {
   "cell_type": "code",
   "execution_count": 16,
   "id": "5db48707-6777-42b1-b16a-79d62a25724e",
   "metadata": {},
   "outputs": [
    {
     "name": "stdout",
     "output_type": "stream",
     "text": [
      "3 4 4 5 6 6 6 7 7 8\n",
      "Time taken: 0.004060983657836914 seconds\n"
     ]
    }
   ],
   "source": [
    "import time \n",
    "start_time = time.time()\n",
    "def bubblesort(l):\n",
    "    n=len(l)\n",
    "    for i in range(0,n-1):\n",
    "        for j in range(0,n-i-1):\n",
    "            if  l[j]>l[j+1]:\n",
    "                l[j],l[j+1]=l[j+1],l[j]\n",
    "    return l\n",
    "\n",
    "l=[4,6,7,8,3,4,5,6,6,7]\n",
    "print(*bubblesort(l))#unpacking\n",
    "end_time = time.time()\n",
    "print(\"Time taken:\", end_time - start_time, \"seconds\")"
   ]
  },
  {
   "cell_type": "code",
   "execution_count": null,
   "id": "7c1e7170-93be-42a7-88fb-caf113e2f8ba",
   "metadata": {},
   "outputs": [],
   "source": [
    "#selection sort\n",
    "#Time Complexity: O(n2)\n",
    "#Space Complexity: O(1)\n"
   ]
  },
  {
   "cell_type": "code",
   "execution_count": 15,
   "id": "562c9e97-aa3e-4748-a14d-26fd859cb2be",
   "metadata": {},
   "outputs": [
    {
     "name": "stdout",
     "output_type": "stream",
     "text": [
      "2 3 4 4 5 5 6 7 7 8 8 9\n",
      "Time taken: 0.0007116794586181641 seconds\n"
     ]
    }
   ],
   "source": [
    "import time \n",
    "start_time = time.time()\n",
    "def selectionsort(l):\n",
    "    n=len(l)\n",
    "    for i in range(n-1):\n",
    "        min=i\n",
    "        for j in range(i+1,n):\n",
    "            if l[j]<l[min]:\n",
    "                min=j\n",
    "        l[min],l[i]=l[i],l[min]\n",
    "    return l\n",
    "\n",
    "\n",
    "l=[4,2,8,9,7,8,6,5,4,3,5,7]\n",
    "print(*selectionsort(l))\n",
    "end_time = time.time()\n",
    "print(\"Time taken:\", end_time - start_time, \"seconds\")\n",
    "            "
   ]
  },
  {
   "cell_type": "code",
   "execution_count": null,
   "id": "6a0acb19-b13d-4f49-850a-df815618775e",
   "metadata": {},
   "outputs": [],
   "source": [
    "#insertion sort (worst of the sorting alogrithm)\n",
    "#time complexity: Time Complexity: O(n2)\n",
    "#Space Complexity: O(1)"
   ]
  },
  {
   "cell_type": "code",
   "execution_count": null,
   "id": "ab95da7b-1573-4bb4-a8aa-28da64519058",
   "metadata": {},
   "outputs": [],
   "source": [
    "import time\n",
    "def insertionsort(l):\n",
    "    for i in range(1,len(l)):\n",
    "        x=l[i]\n",
    "        j=i-1\n",
    "        while(j>=0 and x<l[j]):\n",
    "            \n",
    "    \n",
    "    \n",
    "    "
   ]
  },
  {
   "cell_type": "code",
   "execution_count": null,
   "id": "9ec6b4e4-cd0b-46b4-8f5d-991169372f1e",
   "metadata": {},
   "outputs": [],
   "source": []
  },
  {
   "cell_type": "code",
   "execution_count": null,
   "id": "68a94eea-d5d9-46eb-ae57-f5ed3479087d",
   "metadata": {},
   "outputs": [],
   "source": []
  },
  {
   "cell_type": "code",
   "execution_count": null,
   "id": "dc09db1d-1927-4fa2-80d5-cb37198f1ecd",
   "metadata": {},
   "outputs": [],
   "source": []
  },
  {
   "cell_type": "markdown",
   "id": "29c54e13-33c6-438f-82c5-856e2646638f",
   "metadata": {},
   "source": [
    "#linked list "
   ]
  },
  {
   "cell_type": "code",
   "execution_count": null,
   "id": "1eb5a74c-c4ad-42a7-99d3-2cecdfb00561",
   "metadata": {},
   "outputs": [],
   "source": [
    "class node:\n",
    "    def __init__(self,data):\n",
    "        self.data=data\n",
    "        self.next=None\n",
    "\n",
    "class Linkedlist:\n",
    "    def __init__(self):\n",
    "        self.head=None\n",
    "    def insetatbeg(head,newdata):\n",
    "        new_node=None(newdata)\n",
    "        new_node.next=head\n",
    "        head=new_node\n",
    "        return head\n",
    "    def printlist(head):\n",
    "        curr=head\n",
    "        while curr!=None:\n",
    "            print(curr.data)\n",
    "            curr=curr.next\n",
    "        print()\n",
    "        \n",
    "        \n",
    "\n"
   ]
  },
  {
   "cell_type": "code",
   "execution_count": 2,
   "id": "4ee3bc1b-b914-4d1b-90ee-9a1d1e95981c",
   "metadata": {},
   "outputs": [],
   "source": [
    "#stack using list(aaray) in python "
   ]
  },
  {
   "cell_type": "code",
   "execution_count": 6,
   "id": "6f7847db-2a4a-4497-83fa-c8d231a90976",
   "metadata": {},
   "outputs": [
    {
     "name": "stdout",
     "output_type": "stream",
     "text": [
      "3\n",
      "[2, 3]\n"
     ]
    }
   ],
   "source": [
    "s=[]\n",
    "s.append(2)\n",
    "s.append(3)\n",
    "top=s[-1]\n",
    "print(top)\n",
    "print(s)"
   ]
  },
  {
   "cell_type": "code",
   "execution_count": null,
   "id": "c42b48df-cc95-4cc1-a323-415a71ed5c3c",
   "metadata": {},
   "outputs": [],
   "source": []
  }
 ],
 "metadata": {
  "kernelspec": {
   "display_name": "Python 3 (ipykernel)",
   "language": "python",
   "name": "python3"
  },
  "language_info": {
   "codemirror_mode": {
    "name": "ipython",
    "version": 3
   },
   "file_extension": ".py",
   "mimetype": "text/x-python",
   "name": "python",
   "nbconvert_exporter": "python",
   "pygments_lexer": "ipython3",
   "version": "3.12.4"
  }
 },
 "nbformat": 4,
 "nbformat_minor": 5
}
