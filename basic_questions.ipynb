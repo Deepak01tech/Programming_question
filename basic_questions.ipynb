{
 "cells": [
  {
   "cell_type": "code",
   "execution_count": 1,
   "id": "d6b8f3fc-3515-489e-96eb-1024ec98d32c",
   "metadata": {},
   "outputs": [
    {
     "name": "stdout",
     "output_type": "stream",
     "text": [
      "deepak\n"
     ]
    }
   ],
   "source": [
    "print(\"deepak\")"
   ]
  },
  {
   "cell_type": "code",
   "execution_count": 2,
   "id": "ca94d3c9-aa54-4af5-b87c-87c8f215ab6c",
   "metadata": {},
   "outputs": [
    {
     "name": "stdout",
     "output_type": "stream",
     "text": [
      "small\n",
      "small\n",
      "big\n",
      "big\n",
      "big\n",
      "big\n",
      "small\n"
     ]
    }
   ],
   "source": [
    "l=[1,2,3,4,5,6,7]\n",
    "for i in l:\n",
    "    if i<3 or i>6:\n",
    "        print(\"small\")\n",
    "    else:\n",
    "        print(\"big\")"
   ]
  },
  {
   "cell_type": "code",
   "execution_count": null,
   "id": "406b2767-7a61-402e-9dcd-e0601e65c2bf",
   "metadata": {},
   "outputs": [],
   "source": []
  }
 ],
 "metadata": {
  "kernelspec": {
   "display_name": "Python 3 (ipykernel)",
   "language": "python",
   "name": "python3"
  },
  "language_info": {
   "codemirror_mode": {
    "name": "ipython",
    "version": 3
   },
   "file_extension": ".py",
   "mimetype": "text/x-python",
   "name": "python",
   "nbconvert_exporter": "python",
   "pygments_lexer": "ipython3",
   "version": "3.12.4"
  }
 },
 "nbformat": 4,
 "nbformat_minor": 5
}
